{
 "cells": [
  {
   "cell_type": "code",
   "execution_count": 1,
   "id": "a7b918c9",
   "metadata": {},
   "outputs": [
    {
     "data": {
      "text/plain": [
       "{'divide': 'warn', 'over': 'warn', 'under': 'ignore', 'invalid': 'warn'}"
      ]
     },
     "execution_count": 1,
     "metadata": {},
     "output_type": "execute_result"
    }
   ],
   "source": [
    "import numpy as np\n",
    "import matplotlib.pyplot as plt\n",
    "from scipy.integrate import solve_bvp\n",
    "from scipy.optimize import root_scalar\n",
    "np.seterr(invalid=\"ignore\")"
   ]
  },
  {
   "cell_type": "code",
   "execution_count": 38,
   "id": "943e0270",
   "metadata": {},
   "outputs": [],
   "source": [
    "D = 0.5     #seperation of two adjacent wells  \n",
    "L = 2       #width of a single well  \n",
    "gamma  = 50 #absolute value of the depth of the well / unitless \n",
    "gamma1 = 0"
   ]
  },
  {
   "cell_type": "code",
   "execution_count": 39,
   "id": "f8743dd0",
   "metadata": {},
   "outputs": [
    {
     "name": "stdout",
     "output_type": "stream",
     "text": [
      "(-51.0, 2.0)\n"
     ]
    },
    {
     "data": {
      "text/plain": [
       "[<matplotlib.lines.Line2D at 0x7fdf2e95a490>]"
      ]
     },
     "execution_count": 39,
     "metadata": {},
     "output_type": "execute_result"
    },
    {
     "data": {
      "image/png": "[encoded data removed]",
      "text/plain": [
       "<Figure size 432x288 with 1 Axes>"
      ]
     },
     "metadata": {
      "needs_background": "light"
     },
     "output_type": "display_data"
    }
   ],
   "source": [
    "def V(x, V0=-gamma,V1 = -gamma1): #construction of wells \n",
    "    if np.iterable(x):\n",
    "        return np.array([V(xi, V0) for xi in x])\n",
    "    elif x < 0:\n",
    "        return 0\n",
    "    elif x >= 0 and x < L:\n",
    "        return -gamma \n",
    "    elif x >= D and x < L + D:\n",
    "        return 0\n",
    "    elif x >= L + D  and x < 2*L + D:\n",
    "        return -gamma\n",
    "    elif x >=  2*L + D:\n",
    "        return 0\n",
    "\n",
    "xd = np.linspace(0-1, 2*L+D+1, 11)\n",
    "xd_plot = np.linspace(xd.min(), xd.max(), 100)\n",
    "print(plt.ylim(-gamma-1,0+2))\n",
    "plt.plot(xd_plot, V(xd_plot) ,drawstyle='steps-mid', c='k', alpha=0.5)"
   ]
  },
  {
   "cell_type": "code",
   "execution_count": 40,
   "id": "17044085",
   "metadata": {},
   "outputs": [],
   "source": [
    "def fund(x, y, p): #the function of psi in finite well \n",
    "    E = p[0]\n",
    "    return np.vstack((y[1], -(E-V(x))*y[0]))"
   ]
  },
  {
   "cell_type": "code",
   "execution_count": 41,
   "id": "ae6272cd",
   "metadata": {},
   "outputs": [],
   "source": [
    "def bcd(ya, yb, p): #the boundary condition\n",
    "    return np.array([ya[0], yb[0], ya[1] - 0.001])"
   ]
  },
  {
   "cell_type": "code",
   "execution_count": 42,
   "id": "575fd809",
   "metadata": {},
   "outputs": [],
   "source": [
    "x1 = np.linspace(-0.73, 2*L+D+0.73, 11) #iteration of the first box"
   ]
  },
  {
   "cell_type": "code",
   "execution_count": 43,
   "id": "7b97fd66",
   "metadata": {},
   "outputs": [],
   "source": [
    "y_d = np.zeros((2, x1.size))\n",
    "y_d[0,4] = 1 #boundary guess for shooting"
   ]
  },
  {
   "cell_type": "code",
   "execution_count": 44,
   "id": "7e500f0c",
   "metadata": {},
   "outputs": [
    {
     "name": "stdout",
     "output_type": "stream",
     "text": [
      "[-48.10914628 -42.47490376 -33.23279249 -20.714111    -5.96536515]\n"
     ]
    }
   ],
   "source": [
    "def fki(E, V0=gamma, a=L, n=1):\n",
    "    \"\"\"Returns the error in the equality:\n",
    "        k2 = k1 * tan(k1 * a / 2) for odd n (even parity solutions); or\n",
    "       -k2 = k1 * cot(k1 * a / 2) for even n (odd parity solutions),\n",
    "        where k1 = sqrt(2 * E) and k2 = sqrt(2 * (V0 - E)) for E < V0.\n",
    "    \"\"\"\n",
    "    k1 = np.sqrt(E)\n",
    "    k2 = np.sqrt((V0-E))\n",
    "    if n % 2:\n",
    "        return k2 - k1 * np.tan(k1 * a / 2)\n",
    "    else:\n",
    "        return k2 + k1 / np.tan(k1 * a / 2)\n",
    "\n",
    "\n",
    "def Eanalytici(V0=gamma, a=L, pts=1000):\n",
    "    \"\"\"Finds the roots of the fk between 0 and V0 for odd and even n.\"\"\"\n",
    "    Ei = np.linspace(0.0, V0, pts)\n",
    "    roots = []\n",
    "    for n in [1, 2]:\n",
    "        for i in range(pts - 1):\n",
    "            soln = root_scalar(fki, args=(V0, a, n), x0=Ei[i], x1=Ei[i + 1])\n",
    "            if soln.converged and np.around(soln.root, 9) not in roots:\n",
    "                roots.append(np.around(soln.root, 9))\n",
    "    return np.sort(roots)\n",
    "elist = Eanalytici()-gamma\n",
    "print(elist)"
   ]
  },
  {
   "cell_type": "code",
   "execution_count": 45,
   "id": "f33a5964",
   "metadata": {},
   "outputs": [],
   "source": [
    "solnsd1 = [solve_bvp(fund, bcd, x1, y_d, p=[Ed]) for Ed in elist]"
   ]
  },
  {
   "cell_type": "code",
   "execution_count": 46,
   "id": "f1661091",
   "metadata": {},
   "outputs": [
    {
     "name": "stdout",
     "output_type": "stream",
     "text": [
      "(-51.0, 2.0)\n"
     ]
    },
    {
     "data": {
      "image/png": "[encoded data removed]",
      "text/plain": [
       "<Figure size 432x288 with 1 Axes>"
      ]
     },
     "metadata": {
      "needs_background": "light"
     },
     "output_type": "display_data"
    }
   ],
   "source": [
    "xd = np.linspace(0-1, 2*L+D+1, 11)\n",
    "xd_plot = np.linspace(x1.min(), x1.max(), 100)\n",
    "print(plt.ylim(-gamma-1,0+2))\n",
    "plt.plot(xd_plot, V(xd_plot) ,drawstyle='steps-mid', c='k', alpha=0.5)\n",
    "\n",
    "    \n",
    "for soln in solnsd1:\n",
    "    y_plot = soln.sol(xd_plot)[0]\n",
    "    l = plt.plot(xd_plot, 2 * y_plot / y_plot.max() + soln.p[0],linewidth = 1)\n",
    "    plt.axhline(soln.p[0], ls='--', c=l[0].get_color(),linewidth = 1)\n",
    "    \n",
    "    \n",
    "#plt.axis(xmin=-5, xmax=5, ymin = -50-1, ymax = 1)\n",
    "plt.xlabel(r'$x$')\n",
    "plt.ylabel(r'$\\psi(x)$')\n",
    "plt.title(\"Energy Levels (D=0.5)\")\n",
    "plt.xlabel(\"z\")\n",
    "plt.ylabel(\"Energy\")\n",
    "plt.savefig('schro.png',dpi=300,bbox_inches='tight')\n",
    "plt.show()"
   ]
  },
  {
   "cell_type": "code",
   "execution_count": null,
   "id": "7a3a85f4",
   "metadata": {},
   "outputs": [],
   "source": []
  }
 ],
 "metadata": {
  "kernelspec": {
   "display_name": "Python 3 (ipykernel)",
   "language": "python",
   "name": "python3"
  },
  "language_info": {
   "codemirror_mode": {
    "name": "ipython",
    "version": 3
   },
   "file_extension": ".py",
   "mimetype": "text/x-python",
   "name": "python",
   "nbconvert_exporter": "python",
   "pygments_lexer": "ipython3",
   "version": "3.9.5"
  }
 },
 "nbformat": 4,
 "nbformat_minor": 5
}
